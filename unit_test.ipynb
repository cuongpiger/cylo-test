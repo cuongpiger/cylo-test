{
 "cells": [
  {
   "attachments": {},
   "cell_type": "markdown",
   "metadata": {},
   "source": [
    "# Tesing API get products"
   ]
  },
  {
   "cell_type": "code",
   "execution_count": 1,
   "metadata": {},
   "outputs": [],
   "source": [
    "import requests"
   ]
  },
  {
   "cell_type": "code",
   "execution_count": 35,
   "metadata": {},
   "outputs": [],
   "source": [
    "def test1():\n",
    "    url = \"http://0.0.0.0:3070/api/v1/products?order=name:desc&page=1&limit=6\"\n",
    "    resp = requests.get(url)\n",
    "    \n",
    "    assert resp.status_code == 200\n",
    "    assert len(resp.json()[\"data\"]) == 6\n",
    "    \n",
    "    url = \"http://0.0.0.0:3070/api/v1/products?order=name:desc&page=2&limit=6\"\n",
    "    resp = requests.get(url)\n",
    "    \n",
    "    assert resp.status_code == 200\n",
    "    assert len(resp.json()[\"data\"]) == 1\n",
    "    \n",
    "    url = \"http://0.0.0.0:3070/api/v1/products?order=name:desc&page=1&limit=6&filter=category_id:eq:5\"\n",
    "    resp = requests.get(url)\n",
    "    \n",
    "    assert resp.status_code == 200\n",
    "    assert len(resp.json()[\"data\"]) == 2\n",
    "    \n",
    "    url = \"http://0.0.0.0:3070/api/v1/products?order=name:desc&page=1&limit=6&filter=price:gte:500000|price:lte:1000000\"\n",
    "    resp = requests.get(url)\n",
    "    \n",
    "    assert resp.status_code == 200\n",
    "    assert len(resp.json()[\"data\"]) == 3\n",
    "    \n",
    "    url = \"http://0.0.0.0:3070/api/v1/products?order=name:desc&page=1&limit=6&filter=name:like:suit\"\n",
    "    resp = requests.get(url)\n",
    "    \n",
    "    assert resp.status_code == 200\n",
    "    assert len(resp.json()[\"data\"]) == 2"
   ]
  },
  {
   "cell_type": "code",
   "execution_count": 32,
   "metadata": {},
   "outputs": [],
   "source": [
    "test1()"
   ]
  },
  {
   "attachments": {},
   "cell_type": "markdown",
   "metadata": {},
   "source": [
    "# Testing API list categories"
   ]
  },
  {
   "cell_type": "code",
   "execution_count": 33,
   "metadata": {},
   "outputs": [],
   "source": [
    "def test2():\n",
    "    url = \"http://0.0.0.0:3070/api/v1/categories\"\n",
    "    resp = requests.get(url)\n",
    "    \n",
    "    assert resp.status_code == 200\n",
    "    assert len(resp.json()[\"data\"]) == 5"
   ]
  },
  {
   "cell_type": "code",
   "execution_count": 34,
   "metadata": {},
   "outputs": [],
   "source": [
    "test2()"
   ]
  },
  {
   "cell_type": "code",
   "execution_count": null,
   "metadata": {},
   "outputs": [],
   "source": []
  }
 ],
 "metadata": {
  "kernelspec": {
   "display_name": "Python 3.7.13 ('full-toping')",
   "language": "python",
   "name": "python3"
  },
  "language_info": {
   "codemirror_mode": {
    "name": "ipython",
    "version": 3
   },
   "file_extension": ".py",
   "mimetype": "text/x-python",
   "name": "python",
   "nbconvert_exporter": "python",
   "pygments_lexer": "ipython3",
   "version": "3.7.13"
  },
  "orig_nbformat": 4,
  "vscode": {
   "interpreter": {
    "hash": "fecc75d579e73fbb906373330e01ae926adccad458edaa5922f0f432973d5423"
   }
  }
 },
 "nbformat": 4,
 "nbformat_minor": 2
}
